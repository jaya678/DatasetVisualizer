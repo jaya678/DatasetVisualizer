{
 "cells": [
  {
   "cell_type": "markdown",
   "metadata": {},
   "source": [
    "### Importing neccessary libraries"
   ]
  },
  {
   "cell_type": "code",
   "execution_count": 1,
   "metadata": {},
   "outputs": [],
   "source": [
    "import numpy as np                                                 # For numerical calculations\n",
    "import pandas as pd                                                # For working with dataframes\n",
    "import plotly as pl                                                # Plotting using plotly and cufflinks\n",
    "import plotly.offline as po\n",
    "import cufflinks as cf"
   ]
  },
  {
   "cell_type": "code",
   "execution_count": 2,
   "metadata": {},
   "outputs": [
    {
     "data": {
      "text/html": [
       "        <script type=\"text/javascript\">\n",
       "        window.PlotlyConfig = {MathJaxConfig: 'local'};\n",
       "        if (window.MathJax) {MathJax.Hub.Config({SVG: {font: \"STIX-Web\"}});}\n",
       "        if (typeof require !== 'undefined') {\n",
       "        require.undef(\"plotly\");\n",
       "        requirejs.config({\n",
       "            paths: {\n",
       "                'plotly': ['https://cdn.plot.ly/plotly-latest.min']\n",
       "            }\n",
       "        });\n",
       "        require(['plotly'], function(Plotly) {\n",
       "            window._Plotly = Plotly;\n",
       "        });\n",
       "        }\n",
       "        </script>\n",
       "        "
      ]
     },
     "metadata": {},
     "output_type": "display_data"
    },
    {
     "data": {
      "text/html": [
       "        <script type=\"text/javascript\">\n",
       "        window.PlotlyConfig = {MathJaxConfig: 'local'};\n",
       "        if (window.MathJax) {MathJax.Hub.Config({SVG: {font: \"STIX-Web\"}});}\n",
       "        if (typeof require !== 'undefined') {\n",
       "        require.undef(\"plotly\");\n",
       "        requirejs.config({\n",
       "            paths: {\n",
       "                'plotly': ['https://cdn.plot.ly/plotly-latest.min']\n",
       "            }\n",
       "        });\n",
       "        require(['plotly'], function(Plotly) {\n",
       "            window._Plotly = Plotly;\n",
       "        });\n",
       "        }\n",
       "        </script>\n",
       "        "
      ]
     },
     "metadata": {},
     "output_type": "display_data"
    }
   ],
   "source": [
    "po.init_notebook_mode(connected = True)\n",
    "cf.go_offline()"
   ]
  },
  {
   "cell_type": "markdown",
   "metadata": {},
   "source": [
    "#### A function to create the dataframe:"
   ]
  },
  {
   "cell_type": "code",
   "execution_count": 3,
   "metadata": {},
   "outputs": [],
   "source": [
    "def createdata(data):\n",
    "    if(data == 1):\n",
    "        x = np.random.rand(100,5)\n",
    "        df1 = pd.DataFrame(x,columns=['A','B','C','D','E'])\n",
    "    elif(data == 2):\n",
    "        x = [0,0,0,0,0]\n",
    "        r1= [0,0,0,0,0]\n",
    "        r2= [0,0,0,0,0]\n",
    "        r3= [0,0,0,0,0]\n",
    "        r4= [0,0,0,0,0]\n",
    "        print('Enter the values for columns')\n",
    "        i=0\n",
    "        for i in [0,1,2,3,4]:\n",
    "            x[i] = input()\n",
    "            i = i + 1\n",
    "        print('Enter the values for first row')\n",
    "        i=0\n",
    "        for i in [0,1,2,3,4]:\n",
    "            r1[i] = int(input())\n",
    "            i = i + 1\n",
    "        print('Enter the values for second row')\n",
    "        i=0\n",
    "        for i in [0,1,2,3,4]:\n",
    "            r2[i] = int(input())\n",
    "            i = i + 1\n",
    "        print('Enter the values for third row')\n",
    "        i=0\n",
    "        for i in [0,1,2,3,4]:\n",
    "            r3[i] = int(input())\n",
    "            i = i + 1\n",
    "        print('Enter the values for fourth row')\n",
    "        i=0\n",
    "        for i in [0,1,2,3,4]:\n",
    "            r4[i] = int(input())\n",
    "            i = i + 1\n",
    "        df1 = pd.DataFrame([r1,r2,r3,r4] , columns = x)\n",
    "    elif(data == 3):\n",
    "        file = input('Enter the file name')\n",
    "        x = pd.read_csv(file)\n",
    "        df1 = pd.DataFrame(x)\n",
    "    else:\n",
    "        print('Wrong Input, DataFrame creation failed')\n",
    "    return df1"
   ]
  },
  {
   "cell_type": "markdown",
   "metadata": {},
   "source": [
    "#### A function to plot all the columns of a datset"
   ]
  },
  {
   "cell_type": "code",
   "execution_count": 4,
   "metadata": {},
   "outputs": [],
   "source": [
    " def plotter(plot):\n",
    "    if(plot == 1):\n",
    "        finalplot = df1.iplot(kind='scatter')\n",
    "    elif(plot == 2):\n",
    "        finalplot = df1.iplot(kind='scatter',mode='markers' ,symbol='x',colorscale='paired')\n",
    "    elif(plot == 3):\n",
    "        finalplot = df1.iplot(kind='bar')\n",
    "    elif(plot == 4):\n",
    "        finalplot = df1.iplot(kind='hist')\n",
    "    elif(plot == 5):\n",
    "        finalplot = df1.iplot(kind='box')\n",
    "    elif(plot == 6):\n",
    "        finalplot = df1.iplot(kind='surface')\n",
    "    else:\n",
    "        finalplot = print('Select only between 1 to 7')\n",
    "    return finalplot"
   ]
  },
  {
   "cell_type": "markdown",
   "metadata": {},
   "source": [
    "#### A function to plot selected columns from a dataset"
   ]
  },
  {
   "cell_type": "code",
   "execution_count": 5,
   "metadata": {},
   "outputs": [],
   "source": [
    "def plotter2(plot):\n",
    "    col = input('Enter the number of columns you want to plot by selecting only 1 , 2 or 3 : ')\n",
    "    col = int(col)\n",
    "    if(col==1):\n",
    "        colm = input('Enter the column you want to plot by selecting any column from dataframe head')\n",
    "        if(plot==1):\n",
    "            finalplot = df1[colm].iplot(kind='scatter')\n",
    "        elif(plot==2):\n",
    "            finalplot = df1[colm].iplot(kind='scatter' , mode='markers' , symbol='x' ,colorscale='paired')\n",
    "        elif(plot==3):\n",
    "            finalplot = df1[colm].iplot(kind='bar')\n",
    "        elif(plot==4):\n",
    "            finalplot = df1[colm].iplot(kind='hist')\n",
    "        elif(plot==5):\n",
    "            finalplot = df1[colm].iplot(kind='box')\n",
    "        elif(plot==6 or plot==7):\n",
    "            finalplot = print('Bubble plot and surface plot require more than one column arguments')\n",
    "        else:\n",
    "            finalplot = print('Select only between 1 to 7')\n",
    "    elif(col==2):\n",
    "        print('Enter the columns you want to plot by selecting from dataframe head')\n",
    "        x = input('First column name:')\n",
    "        y = input('Second column name:')\n",
    "        if(plot==1):\n",
    "            finalplot = df1[[x,y]].iplot(kind='scatter')\n",
    "        elif(plot==2):\n",
    "            finalplot = df1[[x,y]].iplot(kind='scatter' , mode='markers' , symbol='x' ,colorscale='paired')\n",
    "        elif(plot==3):\n",
    "            finalplot = df1[[x,y]].iplot(kind='bar')\n",
    "        elif(plot==4):\n",
    "            finalplot = df1[[x,y]].iplot(kind='hist')\n",
    "        elif(plot==5):\n",
    "            finalplot = df1[[x,y]].iplot(kind='box')\n",
    "        elif(plot==6):\n",
    "            finalplot = df1[[x,y]].iplot(kind='surface')\n",
    "        elif(plot==7):\n",
    "            size = input('Please enter the size column for bubble plot')\n",
    "            finalplot = df1.iplot(kind='bubble' , x=x,y=y,size=size)\n",
    "        else:\n",
    "            finalplot = print('Select only between 1 to 7')\n",
    "    elif(col==3):\n",
    "        print('Enter the column names you want to plot')\n",
    "        x=input('First column name:')\n",
    "        y=input('Second column name:')\n",
    "        z=input('Third column name:')\n",
    "        if(plot==1):\n",
    "            finalplot = df1[[x,y,z]].iplot(kind='scatter')\n",
    "        elif(plot==2):\n",
    "            finalplot = df1[[x,y,z]].iplot(kind='scatter' , mode='markers' , symbol='x' ,colorscale='paired')\n",
    "        elif(plot==3):\n",
    "            finalplot = df1[[x,y,z]].iplot(kind='bar')\n",
    "        elif(plot==4):\n",
    "            finalplot = df1[[x,y,z]].iplot(kind='hist')\n",
    "        elif(plot==5):\n",
    "            finalplot = df1[[x,y,z]].iplot(kind='box')\n",
    "        elif(plot==6):\n",
    "            finalplot = df1[[x,y,z]].iplot(kind='surface')\n",
    "        elif(plot==7):\n",
    "            size = input('Please enter the size column for bubble plot')\n",
    "            finalplot = df1.iplot(kind='bubble' , x=x,y=y,z=z,size=size )\n",
    "        else:\n",
    "            finalplot = print('Select only between 1 to 7')\n",
    "    else:\n",
    "        finalplot = print('Please enter only 1 , 2 or 3')\n",
    "    return finalplot"
   ]
  },
  {
   "cell_type": "markdown",
   "metadata": {},
   "source": [
    "#### Main function to check the category of plot needed either selected columns or the entire dataset"
   ]
  },
  {
   "cell_type": "code",
   "execution_count": 6,
   "metadata": {},
   "outputs": [],
   "source": [
    "def main(cat):\n",
    "    if(cat == 1):\n",
    "        print('Select the type of plot you need from the following (1-6):')\n",
    "        print('1.Line plot')\n",
    "        print('2.Scatter plot')\n",
    "        print('3.Bar plot')\n",
    "        print('4.Histogram')\n",
    "        print('5.Box plot')\n",
    "        print('6.Surface plot')\n",
    "        plot = int(input())\n",
    "        output = plotter(plot)\n",
    "    elif(cat == 2):\n",
    "        print('Select the type of plot you need from the following (1-7): ')\n",
    "        print('1.Line plot')\n",
    "        print('2.Scatter plot')\n",
    "        print('3.Bar plot')\n",
    "        print('4.Histogram')\n",
    "        print('5.Box plot')\n",
    "        print('6.Surface plot')\n",
    "        print('7.Bubble plot')\n",
    "        plot = int(input())\n",
    "        output = plotter2(plot)\n",
    "    else:\n",
    "        print('Please enter 1 or 2 and try again')   "
   ]
  },
  {
   "cell_type": "markdown",
   "metadata": {},
   "source": [
    "#### Taking input from user to create the dataframe"
   ]
  },
  {
   "cell_type": "code",
   "execution_count": 7,
   "metadata": {},
   "outputs": [
    {
     "name": "stdout",
     "output_type": "stream",
     "text": [
      "Select the type of data you want to plot. \n",
      " Enter(1,2 or 3):\n",
      "1.Random data with 100 rows and 5 columns\n",
      "2.Customize dataframe with 5 columns and. 4 rows\n",
      "3.Upload csv/json/txt file\n",
      "1\n"
     ]
    }
   ],
   "source": [
    "print('Select the type of data you want to plot. \\n Enter(1,2 or 3):')\n",
    "print('1.Random data with 100 rows and 5 columns')\n",
    "print('2.Customize dataframe with 5 columns and. 4 rows')\n",
    "print('3.Upload csv/json/txt file')\n",
    "data = int(input())\n",
    "df1 = createdata(data)"
   ]
  },
  {
   "cell_type": "code",
   "execution_count": 8,
   "metadata": {},
   "outputs": [
    {
     "name": "stdout",
     "output_type": "stream",
     "text": [
      "Your DataFrame head is given below check the columns to get the plots.\n"
     ]
    },
    {
     "data": {
      "text/html": [
       "<div>\n",
       "<style scoped>\n",
       "    .dataframe tbody tr th:only-of-type {\n",
       "        vertical-align: middle;\n",
       "    }\n",
       "\n",
       "    .dataframe tbody tr th {\n",
       "        vertical-align: top;\n",
       "    }\n",
       "\n",
       "    .dataframe thead th {\n",
       "        text-align: right;\n",
       "    }\n",
       "</style>\n",
       "<table border=\"1\" class=\"dataframe\">\n",
       "  <thead>\n",
       "    <tr style=\"text-align: right;\">\n",
       "      <th></th>\n",
       "      <th>A</th>\n",
       "      <th>B</th>\n",
       "      <th>C</th>\n",
       "      <th>D</th>\n",
       "      <th>E</th>\n",
       "    </tr>\n",
       "  </thead>\n",
       "  <tbody>\n",
       "    <tr>\n",
       "      <th>0</th>\n",
       "      <td>0.571276</td>\n",
       "      <td>0.495738</td>\n",
       "      <td>0.011923</td>\n",
       "      <td>0.068090</td>\n",
       "      <td>0.283295</td>\n",
       "    </tr>\n",
       "    <tr>\n",
       "      <th>1</th>\n",
       "      <td>0.320881</td>\n",
       "      <td>0.604597</td>\n",
       "      <td>0.121997</td>\n",
       "      <td>0.235405</td>\n",
       "      <td>0.238701</td>\n",
       "    </tr>\n",
       "    <tr>\n",
       "      <th>2</th>\n",
       "      <td>0.727545</td>\n",
       "      <td>0.898480</td>\n",
       "      <td>0.241764</td>\n",
       "      <td>0.861959</td>\n",
       "      <td>0.858125</td>\n",
       "    </tr>\n",
       "    <tr>\n",
       "      <th>3</th>\n",
       "      <td>0.860062</td>\n",
       "      <td>0.424679</td>\n",
       "      <td>0.580612</td>\n",
       "      <td>0.461284</td>\n",
       "      <td>0.101801</td>\n",
       "    </tr>\n",
       "    <tr>\n",
       "      <th>4</th>\n",
       "      <td>0.522661</td>\n",
       "      <td>0.895202</td>\n",
       "      <td>0.970526</td>\n",
       "      <td>0.722812</td>\n",
       "      <td>0.480560</td>\n",
       "    </tr>\n",
       "  </tbody>\n",
       "</table>\n",
       "</div>"
      ],
      "text/plain": [
       "          A         B         C         D         E\n",
       "0  0.571276  0.495738  0.011923  0.068090  0.283295\n",
       "1  0.320881  0.604597  0.121997  0.235405  0.238701\n",
       "2  0.727545  0.898480  0.241764  0.861959  0.858125\n",
       "3  0.860062  0.424679  0.580612  0.461284  0.101801\n",
       "4  0.522661  0.895202  0.970526  0.722812  0.480560"
      ]
     },
     "execution_count": 8,
     "metadata": {},
     "output_type": "execute_result"
    }
   ],
   "source": [
    "print('Your DataFrame head is given below check the columns to get the plots.')\n",
    "df1.head()"
   ]
  },
  {
   "cell_type": "code",
   "execution_count": 9,
   "metadata": {},
   "outputs": [
    {
     "name": "stdout",
     "output_type": "stream",
     "text": [
      "Enter the type of plot you need , the complete data plot or columns plot\n",
      "Press 1 for plotting all columns or press 2 for specifying columns to plot. 1\n"
     ]
    }
   ],
   "source": [
    "print('Enter the type of plot you need , the complete data plot or columns plot')\n",
    "cat = input('Press 1 for plotting all columns or press 2 for specifying columns to plot. ')\n",
    "cat = int(cat)"
   ]
  },
  {
   "cell_type": "code",
   "execution_count": 10,
   "metadata": {},
   "outputs": [
    {
     "name": "stdout",
     "output_type": "stream",
     "text": [
      "Select the type of plot you need from the following (1-6):\n",
      "1.Line plot\n",
      "2.Scatter plot\n",
      "3.Bar plot\n",
      "4.Histogram\n",
      "5.Box plot\n",
      "6.Surface plot\n",
      "4\n"
     ]
    },
    {
     "data": {
      "application/vnd.plotly.v1+json": {
       "config": {
        "linkText": "Export to plot.ly",
        "plotlyServerURL": "https://plot.ly",
        "showLink": true
       },
       "data": [
        {
         "histfunc": "count",
         "histnorm": "",
         "marker": {
          "color": "rgba(255, 153, 51, 1.0)",
          "line": {
           "color": "#4D5663",
           "width": 1.3
          }
         },
         "name": "A",
         "opacity": 0.8,
         "orientation": "v",
         "type": "histogram",
         "x": [
          0.5712760010030793,
          0.32088108692535655,
          0.7275450017127841,
          0.8600624059463028,
          0.5226611255553707,
          0.8629062825435161,
          0.07283719632109542,
          0.9773891847913126,
          0.9677430805393594,
          0.3452453345602109,
          0.8505661098822441,
          0.0313704848962576,
          0.971003404830179,
          0.877712109575187,
          0.6556800307468197,
          0.0374986110514991,
          0.8341114282683307,
          0.3557165690965144,
          0.6006905693861789,
          0.35154446413729756,
          0.8040089228577793,
          0.9892429136138551,
          0.8006818387308317,
          0.16525628398723002,
          0.04926452592065966,
          0.25529301326678466,
          0.7657089783304762,
          0.9798459908665111,
          0.714661406896687,
          0.9993215809218966,
          0.8789586274389822,
          0.9859582694711815,
          0.9362027700299477,
          0.4148141255569986,
          0.21743461129459773,
          0.6282115254148802,
          0.7074343336672118,
          0.8998408499015099,
          0.6957104080407095,
          0.21494718762214138,
          0.35198747377872286,
          0.74767896188944,
          0.9799150901929838,
          0.24600301556748694,
          0.8053877072334945,
          0.8394060129822997,
          0.3037217872197884,
          0.6210857542208489,
          0.14210271148833942,
          0.412918863408663,
          0.17592779378601076,
          0.5684596162645393,
          0.6405984055831686,
          0.7286490280315806,
          0.6928848108220297,
          0.5059985249854261,
          0.34469720220629185,
          0.7399126830251525,
          0.8782247122663569,
          0.6740341058690899,
          0.8418044861785513,
          0.43106254547978307,
          0.20709128164231705,
          0.6971204005268745,
          0.22302898912941993,
          0.9717578851211971,
          0.7806572124090148,
          0.49037750728677254,
          0.05823718884086926,
          0.20727464082055014,
          0.7513939614324107,
          0.749450664081934,
          0.5143826718392603,
          0.46792101858334123,
          0.5148604947617345,
          0.7698291448170037,
          0.09617809987929127,
          0.08362820597193688,
          0.6377835439143238,
          0.9284958024992831,
          0.5149351433713265,
          0.8574037322465226,
          0.9860628021016282,
          0.20058537804565768,
          0.8442863530790786,
          0.12632820738788586,
          0.854012784526834,
          0.44947263213163213,
          0.3062550759960654,
          0.8252781108677966,
          0.5121005782802507,
          0.3897023952567805,
          0.24932296320726322,
          0.8451936539360998,
          0.7739120093839144,
          0.2358858868211593,
          0.5887240512175939,
          0.861950516761718,
          0.9790844752200925,
          0.17156594542997283
         ]
        },
        {
         "histfunc": "count",
         "histnorm": "",
         "marker": {
          "color": "rgba(55, 128, 191, 1.0)",
          "line": {
           "color": "#4D5663",
           "width": 1.3
          }
         },
         "name": "B",
         "opacity": 0.8,
         "orientation": "v",
         "type": "histogram",
         "x": [
          0.495738257237758,
          0.6045974415416833,
          0.8984799801743122,
          0.4246786759877359,
          0.895201606138286,
          0.27416590750365233,
          0.6421720113636804,
          0.5272713685766642,
          0.4919471478208055,
          0.1697522255102164,
          0.1133073929151327,
          0.38606852004987213,
          0.8529098348062745,
          0.6487401048558975,
          0.05975743452518578,
          0.7545703309952497,
          0.4094514695506123,
          0.6809091990500634,
          0.5358887049195487,
          0.7824877992393523,
          0.1139338227888902,
          0.03769771516051712,
          0.3438002984951736,
          0.16233512748088985,
          0.8549657172562762,
          0.06466829397273899,
          0.7778897677231489,
          0.8069064572038516,
          0.17847674484761578,
          0.29838144467184835,
          0.346407177932465,
          0.8243240276378895,
          0.11148957437535856,
          0.9532556386451725,
          0.3631213921073583,
          0.01802097121800028,
          0.11753894308684865,
          0.06707607704452023,
          0.7496826687857504,
          0.05767988402814961,
          0.5009219330567264,
          0.36516724492467434,
          0.29595622938021415,
          0.7287290563623257,
          0.7900516019587499,
          0.46306283933079484,
          0.30346904068713565,
          0.4404155650083925,
          0.6316501420302426,
          0.5427048069544087,
          0.2036932516594061,
          0.8941823645453554,
          0.8838714265768434,
          0.8068608230979676,
          0.5263961747115645,
          0.739593351756231,
          0.5819963793866914,
          0.4765846369381336,
          0.30061954379412503,
          0.5064047308086005,
          0.32235981072068387,
          0.7189927791119755,
          0.6544266535056774,
          0.44822628072584325,
          0.4042284544294069,
          0.5102174336361497,
          0.18232073754367684,
          0.9941033168794361,
          0.5746249549355653,
          0.3294685540818054,
          0.7494934180936398,
          0.8736693540777879,
          0.770810788568926,
          0.7391737346196656,
          0.4637079658055483,
          0.1360024025997888,
          0.8146181870905722,
          0.8535509117529707,
          0.18395603874025235,
          0.4214430921561544,
          0.8204654313567866,
          0.38920345288956515,
          0.09604322281179412,
          0.8749604427998575,
          0.9583413627962587,
          0.9307988771049364,
          0.14516645689669827,
          0.29979351856672554,
          0.5414349742010989,
          0.9480914770804565,
          0.8646016102539432,
          0.8884916155052608,
          0.20234164276352373,
          0.4247893607291865,
          0.3606250214211085,
          0.4488274234859435,
          0.9046703662015774,
          0.16115647209515516,
          0.8880709414558325,
          0.7125089318412761
         ]
        },
        {
         "histfunc": "count",
         "histnorm": "",
         "marker": {
          "color": "rgba(50, 171, 96, 1.0)",
          "line": {
           "color": "#4D5663",
           "width": 1.3
          }
         },
         "name": "C",
         "opacity": 0.8,
         "orientation": "v",
         "type": "histogram",
         "x": [
          0.011922900811863757,
          0.12199683349641532,
          0.24176388684904937,
          0.580612125426939,
          0.9705264515172339,
          0.7538155783538587,
          0.5744656473345535,
          0.5331555238995105,
          0.5125145368940355,
          0.8467333682470982,
          0.40575353383355284,
          0.5720748358906853,
          0.5323148356528906,
          0.9537408939389511,
          0.599288316790542,
          0.3378091135357223,
          0.9226200460763715,
          0.9983509890371058,
          0.08532954824377681,
          0.07783972809675244,
          0.8333158411855548,
          0.46057328443669565,
          0.9455852026932597,
          0.057784208642485346,
          0.9579663207766062,
          0.7490858785556825,
          0.3134462271189353,
          0.9636805426552023,
          0.9766349354495454,
          0.2699188041264219,
          0.6133268186848259,
          0.6541883750511986,
          0.07862909298500187,
          0.25102397774869656,
          0.48275841904121897,
          0.42116109176161975,
          0.44965668832238337,
          0.4245065961217954,
          0.2554734886852642,
          0.8392728861759117,
          0.01472733931728587,
          0.9790297677095182,
          0.3291283741294635,
          0.6015692799204446,
          0.07334365429914846,
          0.4883512194416284,
          0.5392910304513382,
          0.5695694734942611,
          0.30929567246857714,
          0.6922489525007572,
          0.05167856302464102,
          0.33868016653017485,
          0.2770372026024115,
          0.5316319753880858,
          0.7026336849699302,
          0.0878344020210795,
          0.9183067922403324,
          0.008309849069831676,
          0.07926568144665092,
          0.6800459500222341,
          0.29363381107862285,
          0.07708070236942144,
          0.6602805828805415,
          0.7901249646732762,
          0.0359696736165247,
          0.7776321389289146,
          0.21353381913341662,
          0.948020358810219,
          0.48740254805861205,
          0.4419050679443802,
          0.5567758697754193,
          0.9443153821175443,
          0.9507229846241257,
          0.7579199502365482,
          0.9736613046650212,
          0.919151810107561,
          0.6930476733724057,
          0.06284424554426227,
          0.2956582658526764,
          0.5699520409182898,
          0.6349792013739465,
          0.24916994595142616,
          0.5723325153902882,
          0.34666812862588836,
          0.8959170906062228,
          0.5606471798475245,
          0.7774813155691057,
          0.35313136905054,
          0.2451295878712616,
          0.8129294221211353,
          0.9726799961969381,
          0.7361937512990966,
          0.9113310208444712,
          0.012145996380425239,
          0.8225382252915442,
          0.030255882678329904,
          0.409577356757008,
          0.02822737841176992,
          0.323930125449741,
          0.181959969260997
         ]
        },
        {
         "histfunc": "count",
         "histnorm": "",
         "marker": {
          "color": "rgba(128, 0, 128, 1.0)",
          "line": {
           "color": "#4D5663",
           "width": 1.3
          }
         },
         "name": "D",
         "opacity": 0.8,
         "orientation": "v",
         "type": "histogram",
         "x": [
          0.06809006036692278,
          0.23540476422251544,
          0.8619590156109751,
          0.4612837265205554,
          0.7228117200713217,
          0.41320605832877977,
          0.9867667733781973,
          0.4576966752230244,
          0.9371630843925048,
          0.2674443230401454,
          0.2766529694300023,
          0.7668966541738806,
          0.08422641785924034,
          0.06516352193443953,
          0.33950639420473294,
          0.6447073170268317,
          0.922483748164963,
          0.3584883832780672,
          0.4685711527466563,
          0.12845948689590636,
          0.006992959242549168,
          0.47482741035509946,
          0.3381259217716671,
          0.1457843458428788,
          0.3059911533566896,
          0.46619790245482806,
          0.1749201157837026,
          0.877473089208919,
          0.14562636880567914,
          0.10191297812978184,
          0.09236419390536954,
          0.4298943833540634,
          0.574609525926171,
          0.6796791643029859,
          0.27750154372627867,
          0.9244468057127193,
          0.6991425857668225,
          0.8617170353517705,
          0.6627968558560785,
          0.9162789946273727,
          0.011843421692728784,
          0.23312121289868204,
          0.6432364672426467,
          0.19538810694142794,
          0.7464849732905516,
          0.21355395269224509,
          0.7247061599252577,
          0.3543688488187906,
          0.3161298562242675,
          0.7052634862109207,
          0.217541389331819,
          0.3777743641369051,
          0.9869862234962665,
          0.5476141096946122,
          0.13274620357818268,
          0.9751143742602181,
          0.2525623425525768,
          0.26445906447452305,
          0.8921984744748195,
          0.616301390992518,
          0.647265876237782,
          0.10453090571536539,
          0.3246285209143016,
          0.933839486010744,
          0.05124667632777691,
          0.44576723230560344,
          0.23755685588519482,
          0.4162409607083122,
          0.8598399806647047,
          0.5741743424334137,
          0.5871194851891461,
          0.9079612458604936,
          0.5298477599556736,
          0.23139811542236255,
          0.9260433934402272,
          0.3567926444633308,
          0.548055336005498,
          0.019501763948120865,
          0.5346436177025489,
          0.9976357302130663,
          0.3110422579329436,
          0.3948298525397742,
          0.24275372346179258,
          0.2813227192504971,
          0.6024822937715117,
          0.3472637288816227,
          0.3095546089367528,
          0.7526796437500743,
          0.8391286735140249,
          0.34509496206614865,
          0.3312278869677082,
          0.7314204135710599,
          0.8222009157854364,
          0.04753311086433798,
          0.7649616077373808,
          0.9992324852553718,
          0.7198500553766954,
          0.6291654080618997,
          0.9315386553733069,
          0.5188975835579005
         ]
        },
        {
         "histfunc": "count",
         "histnorm": "",
         "marker": {
          "color": "rgba(219, 64, 82, 1.0)",
          "line": {
           "color": "#4D5663",
           "width": 1.3
          }
         },
         "name": "E",
         "opacity": 0.8,
         "orientation": "v",
         "type": "histogram",
         "x": [
          0.28329535350936697,
          0.23870097768167553,
          0.8581253622957408,
          0.1018006135384022,
          0.4805598005642209,
          0.7579297466699035,
          0.00993454850043951,
          0.173648043673014,
          0.8515902603958485,
          0.6623964246590085,
          0.9589908315614205,
          0.504987453851478,
          0.36008233878576634,
          0.3250622005446492,
          0.9113762234155002,
          0.492347599828297,
          0.18873765439269052,
          0.8097217576511458,
          0.23132833488787286,
          0.7023426590387214,
          0.16899523516054904,
          0.5920686308143314,
          0.5788173177948664,
          0.492313188870797,
          0.4958032603212861,
          0.3557499983968112,
          0.43790072055316165,
          0.5604144877423839,
          0.5367888681641593,
          0.8721295374031816,
          0.8744271563595467,
          0.3984327814438826,
          0.2367777357467986,
          0.3952572108657627,
          0.6520171021388337,
          0.670363302290914,
          0.48313847306270874,
          0.8728029974475704,
          0.8342770080817001,
          0.2749254423972505,
          0.4882330494818551,
          0.07558345672168698,
          0.8074725246552724,
          0.4138108358756343,
          0.8902146956405982,
          0.7351100819191888,
          0.0009233480783918946,
          0.9847215418726483,
          0.34533692137452887,
          0.4655506656143106,
          0.4568100723028412,
          0.48785689691265666,
          0.008413216379513866,
          0.29076562876803835,
          0.9341833938553448,
          0.296548671227993,
          0.17355014792475476,
          0.9165117897121463,
          0.06467019526827988,
          0.6558457038714046,
          0.47605384560349384,
          0.6330054627827255,
          0.908716451070648,
          0.9671776907256737,
          0.9946358758737606,
          0.4665889399617489,
          0.20289413004686474,
          0.02682572706599118,
          0.7020821142244125,
          0.9581999342017565,
          0.13206437209020983,
          0.5466404573052167,
          0.7223479773143425,
          0.6422404736333458,
          0.44016589992826005,
          0.0519348143464079,
          0.29688047119103356,
          0.9968826754729663,
          0.12356216606091652,
          0.9822711506321982,
          0.564616781650732,
          0.23621180023520372,
          0.06125861163170332,
          0.3504990926833489,
          0.3805374117587279,
          0.9451642599679089,
          0.9583878426935953,
          0.6710939370169221,
          0.2444492253070809,
          0.5524444037177879,
          0.14284519448217747,
          0.45343963309464097,
          0.42984471110630296,
          0.8161149491360786,
          0.12194542288491206,
          0.630830325371639,
          0.6562929818767766,
          0.27530865339287713,
          0.166821308393848,
          0.543758959325457
         ]
        }
       ],
       "layout": {
        "barmode": "overlay",
        "legend": {
         "bgcolor": "#F5F6F9",
         "font": {
          "color": "#4D5663"
         }
        },
        "paper_bgcolor": "#F5F6F9",
        "plot_bgcolor": "#F5F6F9",
        "template": {
         "data": {
          "bar": [
           {
            "error_x": {
             "color": "#2a3f5f"
            },
            "error_y": {
             "color": "#2a3f5f"
            },
            "marker": {
             "line": {
              "color": "#E5ECF6",
              "width": 0.5
             }
            },
            "type": "bar"
           }
          ],
          "barpolar": [
           {
            "marker": {
             "line": {
              "color": "#E5ECF6",
              "width": 0.5
             }
            },
            "type": "barpolar"
           }
          ],
          "carpet": [
           {
            "aaxis": {
             "endlinecolor": "#2a3f5f",
             "gridcolor": "white",
             "linecolor": "white",
             "minorgridcolor": "white",
             "startlinecolor": "#2a3f5f"
            },
            "baxis": {
             "endlinecolor": "#2a3f5f",
             "gridcolor": "white",
             "linecolor": "white",
             "minorgridcolor": "white",
             "startlinecolor": "#2a3f5f"
            },
            "type": "carpet"
           }
          ],
          "choropleth": [
           {
            "colorbar": {
             "outlinewidth": 0,
             "ticks": ""
            },
            "type": "choropleth"
           }
          ],
          "contour": [
           {
            "colorbar": {
             "outlinewidth": 0,
             "ticks": ""
            },
            "colorscale": [
             [
              0,
              "#0d0887"
             ],
             [
              0.1111111111111111,
              "#46039f"
             ],
             [
              0.2222222222222222,
              "#7201a8"
             ],
             [
              0.3333333333333333,
              "#9c179e"
             ],
             [
              0.4444444444444444,
              "#bd3786"
             ],
             [
              0.5555555555555556,
              "#d8576b"
             ],
             [
              0.6666666666666666,
              "#ed7953"
             ],
             [
              0.7777777777777778,
              "#fb9f3a"
             ],
             [
              0.8888888888888888,
              "#fdca26"
             ],
             [
              1,
              "#f0f921"
             ]
            ],
            "type": "contour"
           }
          ],
          "contourcarpet": [
           {
            "colorbar": {
             "outlinewidth": 0,
             "ticks": ""
            },
            "type": "contourcarpet"
           }
          ],
          "heatmap": [
           {
            "colorbar": {
             "outlinewidth": 0,
             "ticks": ""
            },
            "colorscale": [
             [
              0,
              "#0d0887"
             ],
             [
              0.1111111111111111,
              "#46039f"
             ],
             [
              0.2222222222222222,
              "#7201a8"
             ],
             [
              0.3333333333333333,
              "#9c179e"
             ],
             [
              0.4444444444444444,
              "#bd3786"
             ],
             [
              0.5555555555555556,
              "#d8576b"
             ],
             [
              0.6666666666666666,
              "#ed7953"
             ],
             [
              0.7777777777777778,
              "#fb9f3a"
             ],
             [
              0.8888888888888888,
              "#fdca26"
             ],
             [
              1,
              "#f0f921"
             ]
            ],
            "type": "heatmap"
           }
          ],
          "heatmapgl": [
           {
            "colorbar": {
             "outlinewidth": 0,
             "ticks": ""
            },
            "colorscale": [
             [
              0,
              "#0d0887"
             ],
             [
              0.1111111111111111,
              "#46039f"
             ],
             [
              0.2222222222222222,
              "#7201a8"
             ],
             [
              0.3333333333333333,
              "#9c179e"
             ],
             [
              0.4444444444444444,
              "#bd3786"
             ],
             [
              0.5555555555555556,
              "#d8576b"
             ],
             [
              0.6666666666666666,
              "#ed7953"
             ],
             [
              0.7777777777777778,
              "#fb9f3a"
             ],
             [
              0.8888888888888888,
              "#fdca26"
             ],
             [
              1,
              "#f0f921"
             ]
            ],
            "type": "heatmapgl"
           }
          ],
          "histogram": [
           {
            "marker": {
             "colorbar": {
              "outlinewidth": 0,
              "ticks": ""
             }
            },
            "type": "histogram"
           }
          ],
          "histogram2d": [
           {
            "colorbar": {
             "outlinewidth": 0,
             "ticks": ""
            },
            "colorscale": [
             [
              0,
              "#0d0887"
             ],
             [
              0.1111111111111111,
              "#46039f"
             ],
             [
              0.2222222222222222,
              "#7201a8"
             ],
             [
              0.3333333333333333,
              "#9c179e"
             ],
             [
              0.4444444444444444,
              "#bd3786"
             ],
             [
              0.5555555555555556,
              "#d8576b"
             ],
             [
              0.6666666666666666,
              "#ed7953"
             ],
             [
              0.7777777777777778,
              "#fb9f3a"
             ],
             [
              0.8888888888888888,
              "#fdca26"
             ],
             [
              1,
              "#f0f921"
             ]
            ],
            "type": "histogram2d"
           }
          ],
          "histogram2dcontour": [
           {
            "colorbar": {
             "outlinewidth": 0,
             "ticks": ""
            },
            "colorscale": [
             [
              0,
              "#0d0887"
             ],
             [
              0.1111111111111111,
              "#46039f"
             ],
             [
              0.2222222222222222,
              "#7201a8"
             ],
             [
              0.3333333333333333,
              "#9c179e"
             ],
             [
              0.4444444444444444,
              "#bd3786"
             ],
             [
              0.5555555555555556,
              "#d8576b"
             ],
             [
              0.6666666666666666,
              "#ed7953"
             ],
             [
              0.7777777777777778,
              "#fb9f3a"
             ],
             [
              0.8888888888888888,
              "#fdca26"
             ],
             [
              1,
              "#f0f921"
             ]
            ],
            "type": "histogram2dcontour"
           }
          ],
          "mesh3d": [
           {
            "colorbar": {
             "outlinewidth": 0,
             "ticks": ""
            },
            "type": "mesh3d"
           }
          ],
          "parcoords": [
           {
            "line": {
             "colorbar": {
              "outlinewidth": 0,
              "ticks": ""
             }
            },
            "type": "parcoords"
           }
          ],
          "pie": [
           {
            "automargin": true,
            "type": "pie"
           }
          ],
          "scatter": [
           {
            "marker": {
             "colorbar": {
              "outlinewidth": 0,
              "ticks": ""
             }
            },
            "type": "scatter"
           }
          ],
          "scatter3d": [
           {
            "line": {
             "colorbar": {
              "outlinewidth": 0,
              "ticks": ""
             }
            },
            "marker": {
             "colorbar": {
              "outlinewidth": 0,
              "ticks": ""
             }
            },
            "type": "scatter3d"
           }
          ],
          "scattercarpet": [
           {
            "marker": {
             "colorbar": {
              "outlinewidth": 0,
              "ticks": ""
             }
            },
            "type": "scattercarpet"
           }
          ],
          "scattergeo": [
           {
            "marker": {
             "colorbar": {
              "outlinewidth": 0,
              "ticks": ""
             }
            },
            "type": "scattergeo"
           }
          ],
          "scattergl": [
           {
            "marker": {
             "colorbar": {
              "outlinewidth": 0,
              "ticks": ""
             }
            },
            "type": "scattergl"
           }
          ],
          "scattermapbox": [
           {
            "marker": {
             "colorbar": {
              "outlinewidth": 0,
              "ticks": ""
             }
            },
            "type": "scattermapbox"
           }
          ],
          "scatterpolar": [
           {
            "marker": {
             "colorbar": {
              "outlinewidth": 0,
              "ticks": ""
             }
            },
            "type": "scatterpolar"
           }
          ],
          "scatterpolargl": [
           {
            "marker": {
             "colorbar": {
              "outlinewidth": 0,
              "ticks": ""
             }
            },
            "type": "scatterpolargl"
           }
          ],
          "scatterternary": [
           {
            "marker": {
             "colorbar": {
              "outlinewidth": 0,
              "ticks": ""
             }
            },
            "type": "scatterternary"
           }
          ],
          "surface": [
           {
            "colorbar": {
             "outlinewidth": 0,
             "ticks": ""
            },
            "colorscale": [
             [
              0,
              "#0d0887"
             ],
             [
              0.1111111111111111,
              "#46039f"
             ],
             [
              0.2222222222222222,
              "#7201a8"
             ],
             [
              0.3333333333333333,
              "#9c179e"
             ],
             [
              0.4444444444444444,
              "#bd3786"
             ],
             [
              0.5555555555555556,
              "#d8576b"
             ],
             [
              0.6666666666666666,
              "#ed7953"
             ],
             [
              0.7777777777777778,
              "#fb9f3a"
             ],
             [
              0.8888888888888888,
              "#fdca26"
             ],
             [
              1,
              "#f0f921"
             ]
            ],
            "type": "surface"
           }
          ],
          "table": [
           {
            "cells": {
             "fill": {
              "color": "#EBF0F8"
             },
             "line": {
              "color": "white"
             }
            },
            "header": {
             "fill": {
              "color": "#C8D4E3"
             },
             "line": {
              "color": "white"
             }
            },
            "type": "table"
           }
          ]
         },
         "layout": {
          "annotationdefaults": {
           "arrowcolor": "#2a3f5f",
           "arrowhead": 0,
           "arrowwidth": 1
          },
          "autotypenumbers": "strict",
          "coloraxis": {
           "colorbar": {
            "outlinewidth": 0,
            "ticks": ""
           }
          },
          "colorscale": {
           "diverging": [
            [
             0,
             "#8e0152"
            ],
            [
             0.1,
             "#c51b7d"
            ],
            [
             0.2,
             "#de77ae"
            ],
            [
             0.3,
             "#f1b6da"
            ],
            [
             0.4,
             "#fde0ef"
            ],
            [
             0.5,
             "#f7f7f7"
            ],
            [
             0.6,
             "#e6f5d0"
            ],
            [
             0.7,
             "#b8e186"
            ],
            [
             0.8,
             "#7fbc41"
            ],
            [
             0.9,
             "#4d9221"
            ],
            [
             1,
             "#276419"
            ]
           ],
           "sequential": [
            [
             0,
             "#0d0887"
            ],
            [
             0.1111111111111111,
             "#46039f"
            ],
            [
             0.2222222222222222,
             "#7201a8"
            ],
            [
             0.3333333333333333,
             "#9c179e"
            ],
            [
             0.4444444444444444,
             "#bd3786"
            ],
            [
             0.5555555555555556,
             "#d8576b"
            ],
            [
             0.6666666666666666,
             "#ed7953"
            ],
            [
             0.7777777777777778,
             "#fb9f3a"
            ],
            [
             0.8888888888888888,
             "#fdca26"
            ],
            [
             1,
             "#f0f921"
            ]
           ],
           "sequentialminus": [
            [
             0,
             "#0d0887"
            ],
            [
             0.1111111111111111,
             "#46039f"
            ],
            [
             0.2222222222222222,
             "#7201a8"
            ],
            [
             0.3333333333333333,
             "#9c179e"
            ],
            [
             0.4444444444444444,
             "#bd3786"
            ],
            [
             0.5555555555555556,
             "#d8576b"
            ],
            [
             0.6666666666666666,
             "#ed7953"
            ],
            [
             0.7777777777777778,
             "#fb9f3a"
            ],
            [
             0.8888888888888888,
             "#fdca26"
            ],
            [
             1,
             "#f0f921"
            ]
           ]
          },
          "colorway": [
           "#636efa",
           "#EF553B",
           "#00cc96",
           "#ab63fa",
           "#FFA15A",
           "#19d3f3",
           "#FF6692",
           "#B6E880",
           "#FF97FF",
           "#FECB52"
          ],
          "font": {
           "color": "#2a3f5f"
          },
          "geo": {
           "bgcolor": "white",
           "lakecolor": "white",
           "landcolor": "#E5ECF6",
           "showlakes": true,
           "showland": true,
           "subunitcolor": "white"
          },
          "hoverlabel": {
           "align": "left"
          },
          "hovermode": "closest",
          "mapbox": {
           "style": "light"
          },
          "paper_bgcolor": "white",
          "plot_bgcolor": "#E5ECF6",
          "polar": {
           "angularaxis": {
            "gridcolor": "white",
            "linecolor": "white",
            "ticks": ""
           },
           "bgcolor": "#E5ECF6",
           "radialaxis": {
            "gridcolor": "white",
            "linecolor": "white",
            "ticks": ""
           }
          },
          "scene": {
           "xaxis": {
            "backgroundcolor": "#E5ECF6",
            "gridcolor": "white",
            "gridwidth": 2,
            "linecolor": "white",
            "showbackground": true,
            "ticks": "",
            "zerolinecolor": "white"
           },
           "yaxis": {
            "backgroundcolor": "#E5ECF6",
            "gridcolor": "white",
            "gridwidth": 2,
            "linecolor": "white",
            "showbackground": true,
            "ticks": "",
            "zerolinecolor": "white"
           },
           "zaxis": {
            "backgroundcolor": "#E5ECF6",
            "gridcolor": "white",
            "gridwidth": 2,
            "linecolor": "white",
            "showbackground": true,
            "ticks": "",
            "zerolinecolor": "white"
           }
          },
          "shapedefaults": {
           "line": {
            "color": "#2a3f5f"
           }
          },
          "ternary": {
           "aaxis": {
            "gridcolor": "white",
            "linecolor": "white",
            "ticks": ""
           },
           "baxis": {
            "gridcolor": "white",
            "linecolor": "white",
            "ticks": ""
           },
           "bgcolor": "#E5ECF6",
           "caxis": {
            "gridcolor": "white",
            "linecolor": "white",
            "ticks": ""
           }
          },
          "title": {
           "x": 0.05
          },
          "xaxis": {
           "automargin": true,
           "gridcolor": "white",
           "linecolor": "white",
           "ticks": "",
           "title": {
            "standoff": 15
           },
           "zerolinecolor": "white",
           "zerolinewidth": 2
          },
          "yaxis": {
           "automargin": true,
           "gridcolor": "white",
           "linecolor": "white",
           "ticks": "",
           "title": {
            "standoff": 15
           },
           "zerolinecolor": "white",
           "zerolinewidth": 2
          }
         }
        },
        "title": {
         "font": {
          "color": "#4D5663"
         }
        },
        "xaxis": {
         "gridcolor": "#E1E5ED",
         "showgrid": true,
         "tickfont": {
          "color": "#4D5663"
         },
         "title": {
          "font": {
           "color": "#4D5663"
          },
          "text": ""
         },
         "zerolinecolor": "#E1E5ED"
        },
        "yaxis": {
         "gridcolor": "#E1E5ED",
         "showgrid": true,
         "tickfont": {
          "color": "#4D5663"
         },
         "title": {
          "font": {
           "color": "#4D5663"
          },
          "text": ""
         },
         "zerolinecolor": "#E1E5ED"
        }
       }
      },
      "text/html": [
       "<div>                            <div id=\"51e53ce7-fa14-4839-be94-c1aa4a6351df\" class=\"plotly-graph-div\" style=\"height:525px; width:100%;\"></div>            <script type=\"text/javascript\">                require([\"plotly\"], function(Plotly) {                    window.PLOTLYENV=window.PLOTLYENV || {};\n",
       "                    window.PLOTLYENV.BASE_URL='https://plot.ly';                                    if (document.getElementById(\"51e53ce7-fa14-4839-be94-c1aa4a6351df\")) {                    Plotly.newPlot(                        \"51e53ce7-fa14-4839-be94-c1aa4a6351df\",                        [{\"histfunc\": \"count\", \"histnorm\": \"\", \"marker\": {\"color\": \"rgba(255, 153, 51, 1.0)\", \"line\": {\"color\": \"#4D5663\", \"width\": 1.3}}, \"name\": \"A\", \"opacity\": 0.8, \"orientation\": \"v\", \"type\": \"histogram\", \"x\": [0.5712760010030793, 0.32088108692535655, 0.7275450017127841, 0.8600624059463028, 0.5226611255553707, 0.8629062825435161, 0.07283719632109542, 0.9773891847913126, 0.9677430805393594, 0.3452453345602109, 0.8505661098822441, 0.0313704848962576, 0.971003404830179, 0.877712109575187, 0.6556800307468197, 0.0374986110514991, 0.8341114282683307, 0.3557165690965144, 0.6006905693861789, 0.35154446413729756, 0.8040089228577793, 0.9892429136138551, 0.8006818387308317, 0.16525628398723002, 0.04926452592065966, 0.25529301326678466, 0.7657089783304762, 0.9798459908665111, 0.714661406896687, 0.9993215809218966, 0.8789586274389822, 0.9859582694711815, 0.9362027700299477, 0.4148141255569986, 0.21743461129459773, 0.6282115254148802, 0.7074343336672118, 0.8998408499015099, 0.6957104080407095, 0.21494718762214138, 0.35198747377872286, 0.74767896188944, 0.9799150901929838, 0.24600301556748694, 0.8053877072334945, 0.8394060129822997, 0.3037217872197884, 0.6210857542208489, 0.14210271148833942, 0.412918863408663, 0.17592779378601076, 0.5684596162645393, 0.6405984055831686, 0.7286490280315806, 0.6928848108220297, 0.5059985249854261, 0.34469720220629185, 0.7399126830251525, 0.8782247122663569, 0.6740341058690899, 0.8418044861785513, 0.43106254547978307, 0.20709128164231705, 0.6971204005268745, 0.22302898912941993, 0.9717578851211971, 0.7806572124090148, 0.49037750728677254, 0.05823718884086926, 0.20727464082055014, 0.7513939614324107, 0.749450664081934, 0.5143826718392603, 0.46792101858334123, 0.5148604947617345, 0.7698291448170037, 0.09617809987929127, 0.08362820597193688, 0.6377835439143238, 0.9284958024992831, 0.5149351433713265, 0.8574037322465226, 0.9860628021016282, 0.20058537804565768, 0.8442863530790786, 0.12632820738788586, 0.854012784526834, 0.44947263213163213, 0.3062550759960654, 0.8252781108677966, 0.5121005782802507, 0.3897023952567805, 0.24932296320726322, 0.8451936539360998, 0.7739120093839144, 0.2358858868211593, 0.5887240512175939, 0.861950516761718, 0.9790844752200925, 0.17156594542997283]}, {\"histfunc\": \"count\", \"histnorm\": \"\", \"marker\": {\"color\": \"rgba(55, 128, 191, 1.0)\", \"line\": {\"color\": \"#4D5663\", \"width\": 1.3}}, \"name\": \"B\", \"opacity\": 0.8, \"orientation\": \"v\", \"type\": \"histogram\", \"x\": [0.495738257237758, 0.6045974415416833, 0.8984799801743122, 0.4246786759877359, 0.895201606138286, 0.27416590750365233, 0.6421720113636804, 0.5272713685766642, 0.4919471478208055, 0.1697522255102164, 0.1133073929151327, 0.38606852004987213, 0.8529098348062745, 0.6487401048558975, 0.05975743452518578, 0.7545703309952497, 0.4094514695506123, 0.6809091990500634, 0.5358887049195487, 0.7824877992393523, 0.1139338227888902, 0.03769771516051712, 0.3438002984951736, 0.16233512748088985, 0.8549657172562762, 0.06466829397273899, 0.7778897677231489, 0.8069064572038516, 0.17847674484761578, 0.29838144467184835, 0.346407177932465, 0.8243240276378895, 0.11148957437535856, 0.9532556386451725, 0.3631213921073583, 0.01802097121800028, 0.11753894308684865, 0.06707607704452023, 0.7496826687857504, 0.05767988402814961, 0.5009219330567264, 0.36516724492467434, 0.29595622938021415, 0.7287290563623257, 0.7900516019587499, 0.46306283933079484, 0.30346904068713565, 0.4404155650083925, 0.6316501420302426, 0.5427048069544087, 0.2036932516594061, 0.8941823645453554, 0.8838714265768434, 0.8068608230979676, 0.5263961747115645, 0.739593351756231, 0.5819963793866914, 0.4765846369381336, 0.30061954379412503, 0.5064047308086005, 0.32235981072068387, 0.7189927791119755, 0.6544266535056774, 0.44822628072584325, 0.4042284544294069, 0.5102174336361497, 0.18232073754367684, 0.9941033168794361, 0.5746249549355653, 0.3294685540818054, 0.7494934180936398, 0.8736693540777879, 0.770810788568926, 0.7391737346196656, 0.4637079658055483, 0.1360024025997888, 0.8146181870905722, 0.8535509117529707, 0.18395603874025235, 0.4214430921561544, 0.8204654313567866, 0.38920345288956515, 0.09604322281179412, 0.8749604427998575, 0.9583413627962587, 0.9307988771049364, 0.14516645689669827, 0.29979351856672554, 0.5414349742010989, 0.9480914770804565, 0.8646016102539432, 0.8884916155052608, 0.20234164276352373, 0.4247893607291865, 0.3606250214211085, 0.4488274234859435, 0.9046703662015774, 0.16115647209515516, 0.8880709414558325, 0.7125089318412761]}, {\"histfunc\": \"count\", \"histnorm\": \"\", \"marker\": {\"color\": \"rgba(50, 171, 96, 1.0)\", \"line\": {\"color\": \"#4D5663\", \"width\": 1.3}}, \"name\": \"C\", \"opacity\": 0.8, \"orientation\": \"v\", \"type\": \"histogram\", \"x\": [0.011922900811863757, 0.12199683349641532, 0.24176388684904937, 0.580612125426939, 0.9705264515172339, 0.7538155783538587, 0.5744656473345535, 0.5331555238995105, 0.5125145368940355, 0.8467333682470982, 0.40575353383355284, 0.5720748358906853, 0.5323148356528906, 0.9537408939389511, 0.599288316790542, 0.3378091135357223, 0.9226200460763715, 0.9983509890371058, 0.08532954824377681, 0.07783972809675244, 0.8333158411855548, 0.46057328443669565, 0.9455852026932597, 0.057784208642485346, 0.9579663207766062, 0.7490858785556825, 0.3134462271189353, 0.9636805426552023, 0.9766349354495454, 0.2699188041264219, 0.6133268186848259, 0.6541883750511986, 0.07862909298500187, 0.25102397774869656, 0.48275841904121897, 0.42116109176161975, 0.44965668832238337, 0.4245065961217954, 0.2554734886852642, 0.8392728861759117, 0.01472733931728587, 0.9790297677095182, 0.3291283741294635, 0.6015692799204446, 0.07334365429914846, 0.4883512194416284, 0.5392910304513382, 0.5695694734942611, 0.30929567246857714, 0.6922489525007572, 0.05167856302464102, 0.33868016653017485, 0.2770372026024115, 0.5316319753880858, 0.7026336849699302, 0.0878344020210795, 0.9183067922403324, 0.008309849069831676, 0.07926568144665092, 0.6800459500222341, 0.29363381107862285, 0.07708070236942144, 0.6602805828805415, 0.7901249646732762, 0.0359696736165247, 0.7776321389289146, 0.21353381913341662, 0.948020358810219, 0.48740254805861205, 0.4419050679443802, 0.5567758697754193, 0.9443153821175443, 0.9507229846241257, 0.7579199502365482, 0.9736613046650212, 0.919151810107561, 0.6930476733724057, 0.06284424554426227, 0.2956582658526764, 0.5699520409182898, 0.6349792013739465, 0.24916994595142616, 0.5723325153902882, 0.34666812862588836, 0.8959170906062228, 0.5606471798475245, 0.7774813155691057, 0.35313136905054, 0.2451295878712616, 0.8129294221211353, 0.9726799961969381, 0.7361937512990966, 0.9113310208444712, 0.012145996380425239, 0.8225382252915442, 0.030255882678329904, 0.409577356757008, 0.02822737841176992, 0.323930125449741, 0.181959969260997]}, {\"histfunc\": \"count\", \"histnorm\": \"\", \"marker\": {\"color\": \"rgba(128, 0, 128, 1.0)\", \"line\": {\"color\": \"#4D5663\", \"width\": 1.3}}, \"name\": \"D\", \"opacity\": 0.8, \"orientation\": \"v\", \"type\": \"histogram\", \"x\": [0.06809006036692278, 0.23540476422251544, 0.8619590156109751, 0.4612837265205554, 0.7228117200713217, 0.41320605832877977, 0.9867667733781973, 0.4576966752230244, 0.9371630843925048, 0.2674443230401454, 0.2766529694300023, 0.7668966541738806, 0.08422641785924034, 0.06516352193443953, 0.33950639420473294, 0.6447073170268317, 0.922483748164963, 0.3584883832780672, 0.4685711527466563, 0.12845948689590636, 0.006992959242549168, 0.47482741035509946, 0.3381259217716671, 0.1457843458428788, 0.3059911533566896, 0.46619790245482806, 0.1749201157837026, 0.877473089208919, 0.14562636880567914, 0.10191297812978184, 0.09236419390536954, 0.4298943833540634, 0.574609525926171, 0.6796791643029859, 0.27750154372627867, 0.9244468057127193, 0.6991425857668225, 0.8617170353517705, 0.6627968558560785, 0.9162789946273727, 0.011843421692728784, 0.23312121289868204, 0.6432364672426467, 0.19538810694142794, 0.7464849732905516, 0.21355395269224509, 0.7247061599252577, 0.3543688488187906, 0.3161298562242675, 0.7052634862109207, 0.217541389331819, 0.3777743641369051, 0.9869862234962665, 0.5476141096946122, 0.13274620357818268, 0.9751143742602181, 0.2525623425525768, 0.26445906447452305, 0.8921984744748195, 0.616301390992518, 0.647265876237782, 0.10453090571536539, 0.3246285209143016, 0.933839486010744, 0.05124667632777691, 0.44576723230560344, 0.23755685588519482, 0.4162409607083122, 0.8598399806647047, 0.5741743424334137, 0.5871194851891461, 0.9079612458604936, 0.5298477599556736, 0.23139811542236255, 0.9260433934402272, 0.3567926444633308, 0.548055336005498, 0.019501763948120865, 0.5346436177025489, 0.9976357302130663, 0.3110422579329436, 0.3948298525397742, 0.24275372346179258, 0.2813227192504971, 0.6024822937715117, 0.3472637288816227, 0.3095546089367528, 0.7526796437500743, 0.8391286735140249, 0.34509496206614865, 0.3312278869677082, 0.7314204135710599, 0.8222009157854364, 0.04753311086433798, 0.7649616077373808, 0.9992324852553718, 0.7198500553766954, 0.6291654080618997, 0.9315386553733069, 0.5188975835579005]}, {\"histfunc\": \"count\", \"histnorm\": \"\", \"marker\": {\"color\": \"rgba(219, 64, 82, 1.0)\", \"line\": {\"color\": \"#4D5663\", \"width\": 1.3}}, \"name\": \"E\", \"opacity\": 0.8, \"orientation\": \"v\", \"type\": \"histogram\", \"x\": [0.28329535350936697, 0.23870097768167553, 0.8581253622957408, 0.1018006135384022, 0.4805598005642209, 0.7579297466699035, 0.00993454850043951, 0.173648043673014, 0.8515902603958485, 0.6623964246590085, 0.9589908315614205, 0.504987453851478, 0.36008233878576634, 0.3250622005446492, 0.9113762234155002, 0.492347599828297, 0.18873765439269052, 0.8097217576511458, 0.23132833488787286, 0.7023426590387214, 0.16899523516054904, 0.5920686308143314, 0.5788173177948664, 0.492313188870797, 0.4958032603212861, 0.3557499983968112, 0.43790072055316165, 0.5604144877423839, 0.5367888681641593, 0.8721295374031816, 0.8744271563595467, 0.3984327814438826, 0.2367777357467986, 0.3952572108657627, 0.6520171021388337, 0.670363302290914, 0.48313847306270874, 0.8728029974475704, 0.8342770080817001, 0.2749254423972505, 0.4882330494818551, 0.07558345672168698, 0.8074725246552724, 0.4138108358756343, 0.8902146956405982, 0.7351100819191888, 0.0009233480783918946, 0.9847215418726483, 0.34533692137452887, 0.4655506656143106, 0.4568100723028412, 0.48785689691265666, 0.008413216379513866, 0.29076562876803835, 0.9341833938553448, 0.296548671227993, 0.17355014792475476, 0.9165117897121463, 0.06467019526827988, 0.6558457038714046, 0.47605384560349384, 0.6330054627827255, 0.908716451070648, 0.9671776907256737, 0.9946358758737606, 0.4665889399617489, 0.20289413004686474, 0.02682572706599118, 0.7020821142244125, 0.9581999342017565, 0.13206437209020983, 0.5466404573052167, 0.7223479773143425, 0.6422404736333458, 0.44016589992826005, 0.0519348143464079, 0.29688047119103356, 0.9968826754729663, 0.12356216606091652, 0.9822711506321982, 0.564616781650732, 0.23621180023520372, 0.06125861163170332, 0.3504990926833489, 0.3805374117587279, 0.9451642599679089, 0.9583878426935953, 0.6710939370169221, 0.2444492253070809, 0.5524444037177879, 0.14284519448217747, 0.45343963309464097, 0.42984471110630296, 0.8161149491360786, 0.12194542288491206, 0.630830325371639, 0.6562929818767766, 0.27530865339287713, 0.166821308393848, 0.543758959325457]}],                        {\"barmode\": \"overlay\", \"legend\": {\"bgcolor\": \"#F5F6F9\", \"font\": {\"color\": \"#4D5663\"}}, \"paper_bgcolor\": \"#F5F6F9\", \"plot_bgcolor\": \"#F5F6F9\", \"template\": {\"data\": {\"bar\": [{\"error_x\": {\"color\": \"#2a3f5f\"}, \"error_y\": {\"color\": \"#2a3f5f\"}, \"marker\": {\"line\": {\"color\": \"#E5ECF6\", \"width\": 0.5}}, \"type\": \"bar\"}], \"barpolar\": [{\"marker\": {\"line\": {\"color\": \"#E5ECF6\", \"width\": 0.5}}, \"type\": \"barpolar\"}], \"carpet\": [{\"aaxis\": {\"endlinecolor\": \"#2a3f5f\", \"gridcolor\": \"white\", \"linecolor\": \"white\", \"minorgridcolor\": \"white\", \"startlinecolor\": \"#2a3f5f\"}, \"baxis\": {\"endlinecolor\": \"#2a3f5f\", \"gridcolor\": \"white\", \"linecolor\": \"white\", \"minorgridcolor\": \"white\", \"startlinecolor\": \"#2a3f5f\"}, \"type\": \"carpet\"}], \"choropleth\": [{\"colorbar\": {\"outlinewidth\": 0, \"ticks\": \"\"}, \"type\": \"choropleth\"}], \"contour\": [{\"colorbar\": {\"outlinewidth\": 0, \"ticks\": \"\"}, \"colorscale\": [[0.0, \"#0d0887\"], [0.1111111111111111, \"#46039f\"], [0.2222222222222222, \"#7201a8\"], [0.3333333333333333, \"#9c179e\"], [0.4444444444444444, \"#bd3786\"], [0.5555555555555556, \"#d8576b\"], [0.6666666666666666, \"#ed7953\"], [0.7777777777777778, \"#fb9f3a\"], [0.8888888888888888, \"#fdca26\"], [1.0, \"#f0f921\"]], \"type\": \"contour\"}], \"contourcarpet\": [{\"colorbar\": {\"outlinewidth\": 0, \"ticks\": \"\"}, \"type\": \"contourcarpet\"}], \"heatmap\": [{\"colorbar\": {\"outlinewidth\": 0, \"ticks\": \"\"}, \"colorscale\": [[0.0, \"#0d0887\"], [0.1111111111111111, \"#46039f\"], [0.2222222222222222, \"#7201a8\"], [0.3333333333333333, \"#9c179e\"], [0.4444444444444444, \"#bd3786\"], [0.5555555555555556, \"#d8576b\"], [0.6666666666666666, \"#ed7953\"], [0.7777777777777778, \"#fb9f3a\"], [0.8888888888888888, \"#fdca26\"], [1.0, \"#f0f921\"]], \"type\": \"heatmap\"}], \"heatmapgl\": [{\"colorbar\": {\"outlinewidth\": 0, \"ticks\": \"\"}, \"colorscale\": [[0.0, \"#0d0887\"], [0.1111111111111111, \"#46039f\"], [0.2222222222222222, \"#7201a8\"], [0.3333333333333333, \"#9c179e\"], [0.4444444444444444, \"#bd3786\"], [0.5555555555555556, \"#d8576b\"], [0.6666666666666666, \"#ed7953\"], [0.7777777777777778, \"#fb9f3a\"], [0.8888888888888888, \"#fdca26\"], [1.0, \"#f0f921\"]], \"type\": \"heatmapgl\"}], \"histogram\": [{\"marker\": {\"colorbar\": {\"outlinewidth\": 0, \"ticks\": \"\"}}, \"type\": \"histogram\"}], \"histogram2d\": [{\"colorbar\": {\"outlinewidth\": 0, \"ticks\": \"\"}, \"colorscale\": [[0.0, \"#0d0887\"], [0.1111111111111111, \"#46039f\"], [0.2222222222222222, \"#7201a8\"], [0.3333333333333333, \"#9c179e\"], [0.4444444444444444, \"#bd3786\"], [0.5555555555555556, \"#d8576b\"], [0.6666666666666666, \"#ed7953\"], [0.7777777777777778, \"#fb9f3a\"], [0.8888888888888888, \"#fdca26\"], [1.0, \"#f0f921\"]], \"type\": \"histogram2d\"}], \"histogram2dcontour\": [{\"colorbar\": {\"outlinewidth\": 0, \"ticks\": \"\"}, \"colorscale\": [[0.0, \"#0d0887\"], [0.1111111111111111, \"#46039f\"], [0.2222222222222222, \"#7201a8\"], [0.3333333333333333, \"#9c179e\"], [0.4444444444444444, \"#bd3786\"], [0.5555555555555556, \"#d8576b\"], [0.6666666666666666, \"#ed7953\"], [0.7777777777777778, \"#fb9f3a\"], [0.8888888888888888, \"#fdca26\"], [1.0, \"#f0f921\"]], \"type\": \"histogram2dcontour\"}], \"mesh3d\": [{\"colorbar\": {\"outlinewidth\": 0, \"ticks\": \"\"}, \"type\": \"mesh3d\"}], \"parcoords\": [{\"line\": {\"colorbar\": {\"outlinewidth\": 0, \"ticks\": \"\"}}, \"type\": \"parcoords\"}], \"pie\": [{\"automargin\": true, \"type\": \"pie\"}], \"scatter\": [{\"marker\": {\"colorbar\": {\"outlinewidth\": 0, \"ticks\": \"\"}}, \"type\": \"scatter\"}], \"scatter3d\": [{\"line\": {\"colorbar\": {\"outlinewidth\": 0, \"ticks\": \"\"}}, \"marker\": {\"colorbar\": {\"outlinewidth\": 0, \"ticks\": \"\"}}, \"type\": \"scatter3d\"}], \"scattercarpet\": [{\"marker\": {\"colorbar\": {\"outlinewidth\": 0, \"ticks\": \"\"}}, \"type\": \"scattercarpet\"}], \"scattergeo\": [{\"marker\": {\"colorbar\": {\"outlinewidth\": 0, \"ticks\": \"\"}}, \"type\": \"scattergeo\"}], \"scattergl\": [{\"marker\": {\"colorbar\": {\"outlinewidth\": 0, \"ticks\": \"\"}}, \"type\": \"scattergl\"}], \"scattermapbox\": [{\"marker\": {\"colorbar\": {\"outlinewidth\": 0, \"ticks\": \"\"}}, \"type\": \"scattermapbox\"}], \"scatterpolar\": [{\"marker\": {\"colorbar\": {\"outlinewidth\": 0, \"ticks\": \"\"}}, \"type\": \"scatterpolar\"}], \"scatterpolargl\": [{\"marker\": {\"colorbar\": {\"outlinewidth\": 0, \"ticks\": \"\"}}, \"type\": \"scatterpolargl\"}], \"scatterternary\": [{\"marker\": {\"colorbar\": {\"outlinewidth\": 0, \"ticks\": \"\"}}, \"type\": \"scatterternary\"}], \"surface\": [{\"colorbar\": {\"outlinewidth\": 0, \"ticks\": \"\"}, \"colorscale\": [[0.0, \"#0d0887\"], [0.1111111111111111, \"#46039f\"], [0.2222222222222222, \"#7201a8\"], [0.3333333333333333, \"#9c179e\"], [0.4444444444444444, \"#bd3786\"], [0.5555555555555556, \"#d8576b\"], [0.6666666666666666, \"#ed7953\"], [0.7777777777777778, \"#fb9f3a\"], [0.8888888888888888, \"#fdca26\"], [1.0, \"#f0f921\"]], \"type\": \"surface\"}], \"table\": [{\"cells\": {\"fill\": {\"color\": \"#EBF0F8\"}, \"line\": {\"color\": \"white\"}}, \"header\": {\"fill\": {\"color\": \"#C8D4E3\"}, \"line\": {\"color\": \"white\"}}, \"type\": \"table\"}]}, \"layout\": {\"annotationdefaults\": {\"arrowcolor\": \"#2a3f5f\", \"arrowhead\": 0, \"arrowwidth\": 1}, \"autotypenumbers\": \"strict\", \"coloraxis\": {\"colorbar\": {\"outlinewidth\": 0, \"ticks\": \"\"}}, \"colorscale\": {\"diverging\": [[0, \"#8e0152\"], [0.1, \"#c51b7d\"], [0.2, \"#de77ae\"], [0.3, \"#f1b6da\"], [0.4, \"#fde0ef\"], [0.5, \"#f7f7f7\"], [0.6, \"#e6f5d0\"], [0.7, \"#b8e186\"], [0.8, \"#7fbc41\"], [0.9, \"#4d9221\"], [1, \"#276419\"]], \"sequential\": [[0.0, \"#0d0887\"], [0.1111111111111111, \"#46039f\"], [0.2222222222222222, \"#7201a8\"], [0.3333333333333333, \"#9c179e\"], [0.4444444444444444, \"#bd3786\"], [0.5555555555555556, \"#d8576b\"], [0.6666666666666666, \"#ed7953\"], [0.7777777777777778, \"#fb9f3a\"], [0.8888888888888888, \"#fdca26\"], [1.0, \"#f0f921\"]], \"sequentialminus\": [[0.0, \"#0d0887\"], [0.1111111111111111, \"#46039f\"], [0.2222222222222222, \"#7201a8\"], [0.3333333333333333, \"#9c179e\"], [0.4444444444444444, \"#bd3786\"], [0.5555555555555556, \"#d8576b\"], [0.6666666666666666, \"#ed7953\"], [0.7777777777777778, \"#fb9f3a\"], [0.8888888888888888, \"#fdca26\"], [1.0, \"#f0f921\"]]}, \"colorway\": [\"#636efa\", \"#EF553B\", \"#00cc96\", \"#ab63fa\", \"#FFA15A\", \"#19d3f3\", \"#FF6692\", \"#B6E880\", \"#FF97FF\", \"#FECB52\"], \"font\": {\"color\": \"#2a3f5f\"}, \"geo\": {\"bgcolor\": \"white\", \"lakecolor\": \"white\", \"landcolor\": \"#E5ECF6\", \"showlakes\": true, \"showland\": true, \"subunitcolor\": \"white\"}, \"hoverlabel\": {\"align\": \"left\"}, \"hovermode\": \"closest\", \"mapbox\": {\"style\": \"light\"}, \"paper_bgcolor\": \"white\", \"plot_bgcolor\": \"#E5ECF6\", \"polar\": {\"angularaxis\": {\"gridcolor\": \"white\", \"linecolor\": \"white\", \"ticks\": \"\"}, \"bgcolor\": \"#E5ECF6\", \"radialaxis\": {\"gridcolor\": \"white\", \"linecolor\": \"white\", \"ticks\": \"\"}}, \"scene\": {\"xaxis\": {\"backgroundcolor\": \"#E5ECF6\", \"gridcolor\": \"white\", \"gridwidth\": 2, \"linecolor\": \"white\", \"showbackground\": true, \"ticks\": \"\", \"zerolinecolor\": \"white\"}, \"yaxis\": {\"backgroundcolor\": \"#E5ECF6\", \"gridcolor\": \"white\", \"gridwidth\": 2, \"linecolor\": \"white\", \"showbackground\": true, \"ticks\": \"\", \"zerolinecolor\": \"white\"}, \"zaxis\": {\"backgroundcolor\": \"#E5ECF6\", \"gridcolor\": \"white\", \"gridwidth\": 2, \"linecolor\": \"white\", \"showbackground\": true, \"ticks\": \"\", \"zerolinecolor\": \"white\"}}, \"shapedefaults\": {\"line\": {\"color\": \"#2a3f5f\"}}, \"ternary\": {\"aaxis\": {\"gridcolor\": \"white\", \"linecolor\": \"white\", \"ticks\": \"\"}, \"baxis\": {\"gridcolor\": \"white\", \"linecolor\": \"white\", \"ticks\": \"\"}, \"bgcolor\": \"#E5ECF6\", \"caxis\": {\"gridcolor\": \"white\", \"linecolor\": \"white\", \"ticks\": \"\"}}, \"title\": {\"x\": 0.05}, \"xaxis\": {\"automargin\": true, \"gridcolor\": \"white\", \"linecolor\": \"white\", \"ticks\": \"\", \"title\": {\"standoff\": 15}, \"zerolinecolor\": \"white\", \"zerolinewidth\": 2}, \"yaxis\": {\"automargin\": true, \"gridcolor\": \"white\", \"linecolor\": \"white\", \"ticks\": \"\", \"title\": {\"standoff\": 15}, \"zerolinecolor\": \"white\", \"zerolinewidth\": 2}}}, \"title\": {\"font\": {\"color\": \"#4D5663\"}}, \"xaxis\": {\"gridcolor\": \"#E1E5ED\", \"showgrid\": true, \"tickfont\": {\"color\": \"#4D5663\"}, \"title\": {\"font\": {\"color\": \"#4D5663\"}, \"text\": \"\"}, \"zerolinecolor\": \"#E1E5ED\"}, \"yaxis\": {\"gridcolor\": \"#E1E5ED\", \"showgrid\": true, \"tickfont\": {\"color\": \"#4D5663\"}, \"title\": {\"font\": {\"color\": \"#4D5663\"}, \"text\": \"\"}, \"zerolinecolor\": \"#E1E5ED\"}},                        {\"showLink\": true, \"linkText\": \"Export to plot.ly\", \"plotlyServerURL\": \"https://plot.ly\", \"responsive\": true}                    ).then(function(){\n",
       "                            \n",
       "var gd = document.getElementById('51e53ce7-fa14-4839-be94-c1aa4a6351df');\n",
       "var x = new MutationObserver(function (mutations, observer) {{\n",
       "        var display = window.getComputedStyle(gd).display;\n",
       "        if (!display || display === 'none') {{\n",
       "            console.log([gd, 'removed!']);\n",
       "            Plotly.purge(gd);\n",
       "            observer.disconnect();\n",
       "        }}\n",
       "}});\n",
       "\n",
       "// Listen for the removal of the full notebook cells\n",
       "var notebookContainer = gd.closest('#notebook-container');\n",
       "if (notebookContainer) {{\n",
       "    x.observe(notebookContainer, {childList: true});\n",
       "}}\n",
       "\n",
       "// Listen for the clearing of the current output cell\n",
       "var outputEl = gd.closest('.output');\n",
       "if (outputEl) {{\n",
       "    x.observe(outputEl, {childList: true});\n",
       "}}\n",
       "\n",
       "                        })                };                });            </script>        </div>"
      ]
     },
     "metadata": {},
     "output_type": "display_data"
    }
   ],
   "source": [
    "main(cat)"
   ]
  },
  {
   "cell_type": "code",
   "execution_count": null,
   "metadata": {},
   "outputs": [],
   "source": []
  }
 ],
 "metadata": {
  "kernelspec": {
   "display_name": "Python 3",
   "language": "python",
   "name": "python3"
  },
  "language_info": {
   "codemirror_mode": {
    "name": "ipython",
    "version": 3
   },
   "file_extension": ".py",
   "mimetype": "text/x-python",
   "name": "python",
   "nbconvert_exporter": "python",
   "pygments_lexer": "ipython3",
   "version": "3.9.0"
  }
 },
 "nbformat": 4,
 "nbformat_minor": 4
}
